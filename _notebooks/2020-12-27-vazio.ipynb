{
  "cells": [
    {
      "cell_type": "markdown",
      "metadata": {},
      "source": [
        "# Usando Picat\n",
        "> Usando Jupyter Notebook com Picat em um post\n",
        "\n",
        "- toc: true\n",
        "- author: Marcio Minicz\n",
        "- categories: [picat, jupyter]"
      ]
    },
    {
      "cell_type": "code",
      "metadata": {},
      "source": [
        "#hide\n",
        "import os\n",
        "!wget -c http://picat-lang.org/download/picat30_3_linux64.tar.gz\n",
        "!tar -xf picat30_3_linux64.tar.gz\n",
        "os.environ['PATH'] = os.environ['PATH'] + ':/content/Picat'\n",
        "!pip install ipicat > /dev/null"
      ],
      "execution_count": 5,
      "outputs": [
        {
          "output_type": "stream",
          "text": [
            "--2020-12-27 12:34:41--  http://picat-lang.org/download/picat30_3_linux64.tar.gz\n",
            "Resolving picat-lang.org (picat-lang.org)... 64.71.35.59\n",
            "Connecting to picat-lang.org (picat-lang.org)|64.71.35.59|:80... connected.\n",
            "HTTP request sent, awaiting response... 416 Requested Range Not Satisfiable\n",
            "\n",
            "    The file is already fully retrieved; nothing to do.\n",
            "\n"
          ],
          "name": "stdout"
        }
      ]
    },
    {
      "cell_type": "markdown",
      "metadata": {},
      "source": [
        "# Loding Picat Extension"
      ]
    },
    {
      "cell_type": "code",
      "metadata": {},
      "source": [
        "%load_ext ipicat"
      ],
      "execution_count": 6,
      "outputs": [
        {
          "output_type": "stream",
          "text": [
            "The ipicat extension is already loaded. To reload it, use:\n",
            "  %reload_ext ipicat\n"
          ],
          "name": "stdout"
        }
      ]
    },
    {
      "cell_type": "markdown",
      "metadata": {},
      "source": [
        "# Executing a small program"
      ]
    },
    {
      "cell_type": "code",
      "metadata": {},
      "source": [
        "%%picat\n",
        "\n",
        "main =>\n",
        "  X is mod( -( 2 * 3**4), 5),\n",
        "  Y is mod(  (-2 * 3**4), 5),\n",
        "  println(X),\n",
        "  println(Y)."
      ],
      "execution_count": 7,
      "outputs": [
        {
          "output_type": "stream",
          "text": [
            "3\n",
            "-2\n",
            "\n"
          ],
          "name": "stdout"
        }
      ]
    }
  ]
}
