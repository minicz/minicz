{
  "cells": [
    {
      "cell_type": "markdown",
      "metadata": {},
      "source": [
        "# Usando Picat\n",
        "> Usando Jupyter Notebook com Picat em um post\n",
        "\n",
        "- toc: true\n",
        "- author: Marcio Minicz\n",
        "- categories: [picat, jupyter]"
      ]
    },
    {
      "cell_type": "markdown",
      "metadata": {},
      "source": [
        "# Loding Picat Extension"
      ]
    },
    {
      "cell_type": "markdown",
      "metadata": {},
      "source": [
        "# Executing a small program"
      ]
    }
  ]
}
