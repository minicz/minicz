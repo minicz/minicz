{
  "cells": [
    {
      "cell_type": "markdown",
      "metadata": {},
      "source": [
        "# Usando Picat\n",
        "> Usando Jupyter Notebook com Picat em um post\n",
        "\n",
        "- toc: true\n",
        "- author: Marcio Minicz\n",
        "- categories: [picat, jupyter]"
      ]
    },
    {
      "cell_type": "markdown",
      "metadata": {},
      "source": [
        "# Loding Picat Extension"
      ]
    },
    {
      "cell_type": "markdown",
      "metadata": {},
      "source": [
        "# Executing a small program"
      ]
    }
  ],
 "metadata": {
  "kernelspec": {
   "display_name": "Python 3",
   "language": "python",
   "name": "python3"
  },
  "language_info": {
   "codemirror_mode": {
    "name": "ipython",
    "version": 3
   },
   "file_extension": ".py",
   "mimetype": "text/x-python",
   "name": "python",
   "nbconvert_exporter": "python",
   "pygments_lexer": "ipython3",
   "version": "3.8.3"
  }
 },
 "nbformat": 4,
 "nbformat_minor": 2

}
